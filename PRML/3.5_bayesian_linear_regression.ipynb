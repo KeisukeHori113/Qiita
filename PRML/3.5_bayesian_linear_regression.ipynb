{
 "cells": [
  {
   "cell_type": "code",
   "execution_count": 1,
   "id": "f6ed6133-0941-45ce-b9cf-7568fd0b94ac",
   "metadata": {
    "tags": []
   },
   "outputs": [],
   "source": [
    "import os\n",
    "import sys\n",
    "import glob\n",
    "import time"
   ]
  },
  {
   "cell_type": "code",
   "execution_count": 2,
   "id": "bfdb3e1e-4c29-48c3-96fa-789cd6fecbb5",
   "metadata": {
    "tags": []
   },
   "outputs": [],
   "source": [
    "import numpy as np\n",
    "import matplotlib.pyplot as plt\n",
    "from scipy.stats import multivariate_normal"
   ]
  },
  {
   "cell_type": "code",
   "execution_count": 3,
   "id": "4b0e7d55-637d-40e7-b63f-68163cbb6b97",
   "metadata": {
    "tags": []
   },
   "outputs": [],
   "source": [
    "# 乱数シードを固定\n",
    "np.random.seed(1234)"
   ]
  },
  {
   "cell_type": "markdown",
   "id": "b257bf0f",
   "metadata": {},
   "source": [
    "## Param"
   ]
  },
  {
   "cell_type": "code",
   "execution_count": 4,
   "id": "aa31c481",
   "metadata": {},
   "outputs": [],
   "source": [
    "n = 20\n",
    "a0 = -0.3\n",
    "a1 = 0.5\n",
    "x = 2 * np.random.rand(n, 1) - 1\n",
    "t = a0 + a1 * x + np.random.normal(loc=0, scale=0.2, size=x.shape)\n",
    "alpha = 2.0\n",
    "beta = 25\n",
    "m = np.zeros(2)\n",
    "s = np.identity(2) / alpha"
   ]
  },
  {
   "cell_type": "code",
   "execution_count": 5,
   "id": "c7736b51",
   "metadata": {},
   "outputs": [],
   "source": [
    "grid_x, grid_y = np.mgrid[-1:1:.01, -1:1:.01]\n",
    "pos = np.dstack((grid_x, grid_y))"
   ]
  },
  {
   "cell_type": "markdown",
   "id": "771e2d4d",
   "metadata": {},
   "source": [
    "## Main"
   ]
  },
  {
   "cell_type": "code",
   "execution_count": 6,
   "id": "7aa24197",
   "metadata": {},
   "outputs": [],
   "source": [
    "def calc_likelifood(beta, t, phi, w):\n",
    "    w = np.array(w)\n",
    "    mean = w.dot(phi.T)\n",
    "    cov = np.eye(1) * (1 / beta)\n",
    "    return multivariate_normal.pdf(t, mean=mean, cov=cov)"
   ]
  },
  {
   "cell_type": "code",
   "execution_count": 7,
   "id": "5c7b2b2c",
   "metadata": {},
   "outputs": [],
   "source": [
    "plt.figure(figsize=(16, 5 * n))\n",
    "\n",
    "a_dist = multivariate_normal(m, s)\n",
    "a_pdf = a_dist.pdf(pos)\n",
    "a_samples = a_dist.rvs(size=6)\n",
    "\n",
    "plt.subplot(n+2, 3, 1)\n",
    "plt.plot()\n",
    "plt.xlim(-1,1)\n",
    "plt.ylim(-1,1)\n",
    "plt.xlabel('w0')\n",
    "plt.ylabel('w1')\n",
    "\n",
    "plt.subplot(n+2, 3, 2)\n",
    "plt.contourf(grid_x, grid_y, a_pdf, cmap='viridis')\n",
    "plt.scatter(a0, a1, marker='x', color='white')\n",
    "plt.xlim(-1,1)\n",
    "plt.ylim(-1,1)\n",
    "plt.xlabel('w0')\n",
    "plt.ylabel('w1')\n",
    "\n",
    "plt.subplot(n+2, 3, 3)\n",
    "for (_a0, _a1) in a_samples:\n",
    "    _x = np.linspace(-1, 1, 100)\n",
    "    _t = _a0 + _a1 * _x\n",
    "    plt.plot(_x, _t, color='red')\n",
    "plt.xlim(-1,1)\n",
    "plt.ylim(-1,1)\n",
    "plt.xlabel('x')\n",
    "plt.ylabel('t')\n",
    "\n",
    "for i in range(n):\n",
    "\n",
    "    phi = np.array([[1, x[i][0]]])\n",
    "    s_inv = np.linalg.inv(s)\n",
    "    s = np.linalg.inv(s_inv + beta * phi.T @ phi)\n",
    "    m = s @ (s_inv @ m + beta * phi.T @ t[i])\n",
    "\n",
    "    prob_list = []\n",
    "    for (_a0, _a1) in pos.reshape(-1, 2):\n",
    "        prob_list.append(calc_likelifood(beta, t[i], phi, np.array([[_a0, _a1]])))\n",
    "\n",
    "    a_dist = multivariate_normal(m, s)\n",
    "    a_pdf = a_dist.pdf(pos)\n",
    "    a_samples = a_dist.rvs(size=6)\n",
    "\n",
    "    plt.subplot(n+2, 3, ( i + 1 ) * 3 + 1)\n",
    "    plt.contourf(grid_x, grid_y, np.array(prob_list).reshape(grid_x.shape), cmap='viridis')\n",
    "    plt.scatter(a0, a1, marker='x', color='white')\n",
    "    plt.xlim(-1,1)\n",
    "    plt.ylim(-1,1)\n",
    "    plt.xlabel('w0')\n",
    "    plt.ylabel('w1')\n",
    "\n",
    "    plt.subplot(n+2, 3, ( i + 1 ) * 3 + 2)\n",
    "    plt.contourf(grid_x, grid_y, a_pdf, cmap='viridis')\n",
    "    plt.scatter(a0, a1, marker='x', color='white')\n",
    "    plt.xlim(-1,1)\n",
    "    plt.ylim(-1,1)\n",
    "    plt.xlabel('w0')\n",
    "    plt.ylabel('w1')\n",
    "\n",
    "    plt.subplot(n+2, 3, ( i + 1 ) * 3 + 3)\n",
    "    for (_a0, _a1) in a_samples:\n",
    "        _x = np.linspace(-1, 1, 100)\n",
    "        _t = _a0 + _a1 * _x\n",
    "        plt.plot(_x, _t, color='red')\n",
    "    plt.scatter(x[:i+1], t[:i+1])\n",
    "    plt.xlim(-1,1)\n",
    "    plt.ylim(-1,1)\n",
    "    plt.xlabel('x')\n",
    "    plt.ylabel('t')"
   ]
  },
  {
   "cell_type": "code",
   "execution_count": null,
   "id": "dab64efa",
   "metadata": {},
   "outputs": [],
   "source": []
  }
 ],
 "metadata": {
  "kernelspec": {
   "display_name": "prml",
   "language": "python",
   "name": "prml"
  },
  "language_info": {
   "codemirror_mode": {
    "name": "ipython",
    "version": 3
   },
   "file_extension": ".py",
   "mimetype": "text/x-python",
   "name": "python",
   "nbconvert_exporter": "python",
   "pygments_lexer": "ipython3",
   "version": "3.12.4"
  }
 },
 "nbformat": 4,
 "nbformat_minor": 5
}
